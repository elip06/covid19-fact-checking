{
 "cells": [
  {
   "cell_type": "code",
   "execution_count": null,
   "metadata": {
    "colab": {
     "base_uri": "https://localhost:8080/"
    },
    "executionInfo": {
     "elapsed": 3527,
     "status": "ok",
     "timestamp": 1622117380584,
     "user": {
      "displayName": "Ellie Pankovska",
      "photoUrl": "https://lh3.googleusercontent.com/a-/AOh14GissSTeZCJqcn_5fecohPa8FaTRx7r4dJSMXQZi=s64",
      "userId": "06868089363233557789"
     },
     "user_tz": -180
    },
    "id": "80n_waP4IQ3L",
    "outputId": "c8f1ceff-e960-4cc0-f7ae-0ed1fd61a863"
   },
   "outputs": [],
   "source": [
    "pip install stanza"
   ]
  },
  {
   "cell_type": "code",
   "execution_count": null,
   "metadata": {
    "colab": {
     "base_uri": "https://localhost:8080/"
    },
    "executionInfo": {
     "elapsed": 2687,
     "status": "ok",
     "timestamp": 1622117383537,
     "user": {
      "displayName": "Ellie Pankovska",
      "photoUrl": "https://lh3.googleusercontent.com/a-/AOh14GissSTeZCJqcn_5fecohPa8FaTRx7r4dJSMXQZi=s64",
      "userId": "06868089363233557789"
     },
     "user_tz": -180
    },
    "id": "a6dlCgPq5egl",
    "outputId": "714fc7be-f98c-4d44-8074-42f9b0b464f5"
   },
   "outputs": [],
   "source": [
    "pip install tweet-preprocessor"
   ]
  },
  {
   "cell_type": "code",
   "execution_count": null,
   "metadata": {
    "colab": {
     "base_uri": "https://localhost:8080/"
    },
    "executionInfo": {
     "elapsed": 83966,
     "status": "ok",
     "timestamp": 1622117507839,
     "user": {
      "displayName": "Ellie Pankovska",
      "photoUrl": "https://lh3.googleusercontent.com/a-/AOh14GissSTeZCJqcn_5fecohPa8FaTRx7r4dJSMXQZi=s64",
      "userId": "06868089363233557789"
     },
     "user_tz": -180
    },
    "id": "jzGFhbAp24Ug",
    "outputId": "535f4cf0-9625-416d-b769-4d6575c8dbf7"
   },
   "outputs": [],
   "source": [
    "from __future__ import unicode_literals, print_function\n",
    "import stanza\n",
    "import pandas as pd\n",
    "stanza.download('en')\n",
    "import pandas as pd\n",
    "from sklearn.model_selection import train_test_split\n",
    "import preprocessor as p"
   ]
  },
  {
   "cell_type": "code",
   "execution_count": null,
   "metadata": {
    "colab": {
     "base_uri": "https://localhost:8080/"
    },
    "executionInfo": {
     "elapsed": 11130,
     "status": "ok",
     "timestamp": 1622117518928,
     "user": {
      "displayName": "Ellie Pankovska",
      "photoUrl": "https://lh3.googleusercontent.com/a-/AOh14GissSTeZCJqcn_5fecohPa8FaTRx7r4dJSMXQZi=s64",
      "userId": "06868089363233557789"
     },
     "user_tz": -180
    },
    "id": "2Bnf-DZQuxlN",
    "outputId": "249f93db-4099-47a3-cde1-284148405a96"
   },
   "outputs": [],
   "source": [
    "nlpStanza = stanza.Pipeline(lang='en', processors='tokenize,mwt,pos')"
   ]
  },
  {
   "cell_type": "code",
   "execution_count": null,
   "metadata": {
    "executionInfo": {
     "elapsed": 7,
     "status": "ok",
     "timestamp": 1622117518929,
     "user": {
      "displayName": "Ellie Pankovska",
      "photoUrl": "https://lh3.googleusercontent.com/a-/AOh14GissSTeZCJqcn_5fecohPa8FaTRx7r4dJSMXQZi=s64",
      "userId": "06868089363233557789"
     },
     "user_tz": -180
    },
    "id": "tag4c-VXOwG-"
   },
   "outputs": [],
   "source": [
    "# tag the sentences which have a verb and have at least 4 words\n",
    "def tag_verb(sent):\n",
    "  doc = nlpStanza(sent)\n",
    "  s = [item for sublist in doc.sentences for item in sublist.words]\n",
    "  words = list(filter(lambda x: x.upos != \"PUNCT\",s))\n",
    "  if len(words) < 4:\n",
    "    return False\n",
    "  for word in s:\n",
    "    if word.upos == \"VERB\" or word.upos == \"AUX\":\n",
    "      return True\n",
    "  return False"
   ]
  },
  {
   "cell_type": "code",
   "execution_count": null,
   "metadata": {
    "id": "JXaYpqEO2r6o"
   },
   "outputs": [],
   "source": [
    "# split each abstract from the cord19 dataset into sentences using stanza and create a new row for each sentence\n",
    "df=pd.read_csv(\"initial_datasets/cord19_metadata.csv\")\n",
    "\n",
    "df[\"abstract\"] = df[\"abstract\"].apply(lambda x: [y.text for y in nlpStanza(x).sentences])\n",
    "df = df.apply( pd.Series.explode )\n",
    "# only keep the sentences from the cord dataset which contain a verb and are more than 3 words\n",
    "df = df.drop_duplicates(subset=\"abstract\")\n",
    "df[\"verb\"] = df[\"abstract\"].apply(lambda x: tag_verb(x))\n",
    "df = df[(df[\"verb\"] == True)]\n",
    "df = df[[\"abstract\"]]\n",
    "df[\"labels\"] = 0\n",
    "df = df.rename(columns={\"abstract\": \"text\"})\n",
    "# get a random subset with the same size as the fake news dataset\n",
    "subsetdf = df.sample(n = 7908)\n",
    "subsetdf.to_csv(\"preprocessed_datasets/real_sentences.csv\", index=False)"
   ]
  },
  {
   "cell_type": "code",
   "execution_count": null,
   "metadata": {
    "id": "ijuYXqi18tJC"
   },
   "outputs": [],
   "source": [
    "# only keep the column containing the sentences from both fake news datasets\n",
    "df1 = pd.read_csv(\"initial_datasets/fake_covid_sentences.csv\")\n",
    "df2 = pd.read_csv(\"https://raw.githubusercontent.com/cuilimeng/CoAID/master/11-01-2020/NewsFakeCOVID-19.csv\")\n",
    "df1 = df1.rename(columns={\"sentence\": \"text\"})\n",
    "df2 = df2.rename(columns={\"title\": \"text\"})\n",
    "df1 = df1[[\"text\"]]\n",
    "df2 = df2[[\"text\"]]\n",
    "# combine both datasets and set their label to 1\n",
    "result = pd.concat([df1, df2])\n",
    "result[\"labels\"] = 1\n",
    "result = result.drop_duplicates(subset=\"text\")\n",
    "result.to_csv(\"preprocessed_datasets/fake_sentences.csv\", index=False)"
   ]
  },
  {
   "cell_type": "code",
   "execution_count": null,
   "metadata": {
    "id": "0zQnyf1dZQlG"
   },
   "outputs": [],
   "source": [
    "# merge the real and fake sentences\n",
    "df1 = pd.read_csv(\"preprocessed_datasets/real_sentences.csv\")\n",
    "df2 = pd.read_csv(\"preprocessed_datasets/fake_sentences.csv\")\n",
    "result = pd.concat([df1, df2])\n",
    "result.to_csv(\"preprocessed_datasets/covid_sentences_all.csv\", index=False)"
   ]
  },
  {
   "cell_type": "code",
   "execution_count": null,
   "metadata": {
    "executionInfo": {
     "elapsed": 215,
     "status": "ok",
     "timestamp": 1622117638113,
     "user": {
      "displayName": "Ellie Pankovska",
      "photoUrl": "https://lh3.googleusercontent.com/a-/AOh14GissSTeZCJqcn_5fecohPa8FaTRx7r4dJSMXQZi=s64",
      "userId": "06868089363233557789"
     },
     "user_tz": -180
    },
    "id": "ycJ2Pgics5XF"
   },
   "outputs": [],
   "source": [
    "# split the dataset into train and test dataset\n",
    "df = pd.read_csv(\"preprocessed_datasets/covid_sentences_all.csv\")\n",
    "df_train, df_test = train_test_split(df,test_size=0.2)\n",
    "df_train.to_csv(\"preprocessed_datasets/train_dataset_1.csv\", index=False)\n",
    "df_test.to_csv(\"preprocessed_datasets/test_dataset_1.csv\", index=False)"
   ]
  },
  {
   "cell_type": "code",
   "execution_count": null,
   "metadata": {
    "executionInfo": {
     "elapsed": 243,
     "status": "ok",
     "timestamp": 1622117808236,
     "user": {
      "displayName": "Ellie Pankovska",
      "photoUrl": "https://lh3.googleusercontent.com/a-/AOh14GissSTeZCJqcn_5fecohPa8FaTRx7r4dJSMXQZi=s64",
      "userId": "06868089363233557789"
     },
     "user_tz": -180
    },
    "id": "sKiDZw7S4-v7"
   },
   "outputs": [],
   "source": [
    "p.set_options(p.OPT.URL, p.OPT.EMOJI)\n",
    "# remove all urls and emojis from each data sample\n",
    "def preprocess(row):\n",
    "  text = row[\"tweet\"]\n",
    "  text = p.clean(text)\n",
    "  return text"
   ]
  },
  {
   "cell_type": "code",
   "execution_count": null,
   "metadata": {
    "executionInfo": {
     "elapsed": 221,
     "status": "ok",
     "timestamp": 1622117810976,
     "user": {
      "displayName": "Ellie Pankovska",
      "photoUrl": "https://lh3.googleusercontent.com/a-/AOh14GissSTeZCJqcn_5fecohPa8FaTRx7r4dJSMXQZi=s64",
      "userId": "06868089363233557789"
     },
     "user_tz": -180
    },
    "id": "hP_GJTUK8NCX"
   },
   "outputs": [],
   "source": [
    "# map 'real' and 'fake' to numerical values\n",
    "def map_label(row):\n",
    "  return 0 if row[\"label\"]==\"real\" else 1"
   ]
  },
  {
   "cell_type": "code",
   "execution_count": null,
   "metadata": {
    "executionInfo": {
     "elapsed": 1691,
     "status": "ok",
     "timestamp": 1622117892460,
     "user": {
      "displayName": "Ellie Pankovska",
      "photoUrl": "https://lh3.googleusercontent.com/a-/AOh14GissSTeZCJqcn_5fecohPa8FaTRx7r4dJSMXQZi=s64",
      "userId": "06868089363233557789"
     },
     "user_tz": -180
    },
    "id": "3gSVssfybIsN"
   },
   "outputs": [],
   "source": [
    "# preprocess second (additional) train dataset\n",
    "df = pd.read_csv(\"https://raw.githubusercontent.com/diptamath/covid_fake_news/main/data/Constraint_Train.csv\")\n",
    "df[\"labels\"] = df.apply(lambda x: map_label(x), 1)\n",
    "df[\"tweet\"] = df.apply(lambda x: preprocess(x), 1)\n",
    "df = df.rename(columns={\"tweet\": \"text\"})\n",
    "df = df[[\"text\", \"labels\"]]\n",
    "df.to_csv(\"preprocessed_datasets/train_dataset_2.csv\", index=False)"
   ]
  },
  {
   "cell_type": "code",
   "execution_count": null,
   "metadata": {
    "executionInfo": {
     "elapsed": 974,
     "status": "ok",
     "timestamp": 1622117922464,
     "user": {
      "displayName": "Ellie Pankovska",
      "photoUrl": "https://lh3.googleusercontent.com/a-/AOh14GissSTeZCJqcn_5fecohPa8FaTRx7r4dJSMXQZi=s64",
      "userId": "06868089363233557789"
     },
     "user_tz": -180
    },
    "id": "wKZsYx-h4nX9"
   },
   "outputs": [],
   "source": [
    "# preprocess second (additional) test dataset\n",
    "df = pd.read_csv(\"https://raw.githubusercontent.com/diptamath/covid_fake_news/main/data/Constraint_Val.csv\")\n",
    "df[\"labels\"] = df.apply(lambda x: map_label(x), 1)\n",
    "df[\"tweet\"] = df.apply(lambda x: preprocess(x), 1)\n",
    "df = df.rename(columns={\"tweet\": \"text\"})\n",
    "df = df[[\"text\", \"labels\"]]\n",
    "df.to_csv(\"preprocessed_datasets/test_dataset_2.csv\", index=False)"
   ]
  },
  {
   "cell_type": "code",
   "execution_count": null,
   "metadata": {
    "executionInfo": {
     "elapsed": 461,
     "status": "ok",
     "timestamp": 1622117940453,
     "user": {
      "displayName": "Ellie Pankovska",
      "photoUrl": "https://lh3.googleusercontent.com/a-/AOh14GissSTeZCJqcn_5fecohPa8FaTRx7r4dJSMXQZi=s64",
      "userId": "06868089363233557789"
     },
     "user_tz": -180
    },
    "id": "GLJc0KOR75QN"
   },
   "outputs": [],
   "source": [
    "# combine the original train dataset with the additional one\n",
    "df1 = pd.read_csv(\"preprocessed_datasets/train_dataset_1.csv\")\n",
    "df2 = pd.read_csv(\"preprocessed_datasets/train_dataset_2.csv\")\n",
    "result = pd.concat([df1, df2])\n",
    "result.to_csv(\"preprocessed_datasets/train_dataset_final.csv\", index=False)"
   ]
  },
  {
   "cell_type": "code",
   "execution_count": null,
   "metadata": {
    "executionInfo": {
     "elapsed": 425,
     "status": "ok",
     "timestamp": 1622117944792,
     "user": {
      "displayName": "Ellie Pankovska",
      "photoUrl": "https://lh3.googleusercontent.com/a-/AOh14GissSTeZCJqcn_5fecohPa8FaTRx7r4dJSMXQZi=s64",
      "userId": "06868089363233557789"
     },
     "user_tz": -180
    },
    "id": "LUIV2rh_8nzs"
   },
   "outputs": [],
   "source": [
    "# ombine the original test dataset with the additional one\n",
    "df1 = pd.read_csv(\"preprocessed_datasets/test_dataset_1.csv\")\n",
    "df2 = pd.read_csv(\"preprocessed_datasets/test_dataset_2.csv\")\n",
    "result = pd.concat([df1, df2])\n",
    "result.to_csv(\"preprocessed_datasets/test_dataset_final.csv\", index=False)"
   ]
  }
 ],
 "metadata": {
  "accelerator": "GPU",
  "colab": {
   "authorship_tag": "ABX9TyOnSyLV4DOfsn25vivBoGeV",
   "name": "Dataset-preparation.ipynb",
   "provenance": []
  },
  "kernelspec": {
   "display_name": "Python 3",
   "language": "python",
   "name": "python3"
  },
  "language_info": {
   "codemirror_mode": {
    "name": "ipython",
    "version": 3
   },
   "file_extension": ".py",
   "mimetype": "text/x-python",
   "name": "python",
   "nbconvert_exporter": "python",
   "pygments_lexer": "ipython3",
   "version": "3.7.9"
  }
 },
 "nbformat": 4,
 "nbformat_minor": 1
}
