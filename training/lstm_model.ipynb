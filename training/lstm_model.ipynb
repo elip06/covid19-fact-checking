{
 "cells": [
  {
   "cell_type": "code",
   "execution_count": 1,
   "metadata": {},
   "outputs": [],
   "source": [
    "import pandas as pd\n",
    "from keras.layers import LSTM, Dense, Embedding\n",
    "from keras.preprocessing.text import Tokenizer\n",
    "from keras.preprocessing import sequence\n",
    "from keras.models import Sequential\n",
    "from keras import metrics"
   ]
  },
  {
   "cell_type": "code",
   "execution_count": null,
   "metadata": {},
   "outputs": [],
   "source": [
    "train_df = pd.read_csv(\"https://raw.githubusercontent.com/elip06/covid19-fact-checking/main/dataset_preparation/preprocessed_datasets/train_dataset_final.csv?token=AL3S7USONU7SWCL464X7SOLA34FCO\")\n",
    "test_df = pd.read_csv(\"https://raw.githubusercontent.com/elip06/covid19-fact-checking/main/dataset_preparation/preprocessed_datasets/test_dataset_final.csv?token=AL3S7USJS5CMY5SRWUR4ED3A34FEW\")\n",
    "X_train = train_df.text\n",
    "Y_train = train_df.labels\n",
    "X_test = test_df.text\n",
    "Y_test = test_df.labels"
   ]
  },
  {
   "cell_type": "code",
   "execution_count": null,
   "metadata": {},
   "outputs": [],
   "source": [
    "max_words = 5000\n",
    "max_len = 512\n",
    "tokenizer_lstm = Tokenizer(num_words=max_words)\n",
    "tokenizer_lstm.fit_on_texts(X_train)\n",
    "sequences = tokenizer_lstm.texts_to_sequences(X_train)\n",
    "X_train_lstm = sequence.pad_sequences(sequences,maxlen=max_len)"
   ]
  },
  {
   "cell_type": "code",
   "execution_count": null,
   "metadata": {},
   "outputs": [],
   "source": [
    "embedding_vector_length = 32\n",
    "lstm_model = Sequential()\n",
    "lstm_model.add(Embedding(max_words, embedding_vector_length, input_length=max_len))\n",
    "lstm_model.add(LSTM(100))\n",
    "lstm_model.add(Dense(1, activation='sigmoid'))\n",
    "lstm_model.compile(loss='binary_crossentropy', optimizer='adam', metrics=['accuracy', metrics.FalsePositives(), metrics.FalseNegatives(), metrics.TruePositives(), metrics.TrueNegatives()])\n",
    "print(lstm_model.summary())\n",
    "lstm_model.fit(X_train_lstm, Y_train, epochs=4, batch_size=64)"
   ]
  },
  {
   "cell_type": "code",
   "execution_count": null,
   "metadata": {},
   "outputs": [],
   "source": [
    "test_sequences = tokenizer_lstm.texts_to_sequences(X_test)\n",
    "X_test_lstm = sequence.pad_sequences(test_sequences,maxlen=max_len)\n",
    "accr = lstm_model.evaluate(X_test_lstm, Y_test)\n",
    "print('Test set\\n  Loss: {:0.3f}\\n  Accuracy: {:0.3f}\\n  False Positives: {:0.0f}\\n  False Negatives: {:0.0f}\\n  True Positives: {:0.0f}\\n  True Negatives: {:0.0f}'.format(accr[0],accr[1], accr[2], accr[3], accr[4], accr[5]))"
   ]
  }
 ],
 "metadata": {
  "kernelspec": {
   "display_name": "Python 3",
   "language": "python",
   "name": "python3"
  },
  "language_info": {
   "codemirror_mode": {
    "name": "ipython",
    "version": 3
   },
   "file_extension": ".py",
   "mimetype": "text/x-python",
   "name": "python",
   "nbconvert_exporter": "python",
   "pygments_lexer": "ipython3",
   "version": "3.7.9"
  }
 },
 "nbformat": 4,
 "nbformat_minor": 4
}
