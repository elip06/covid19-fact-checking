{
 "cells": [
  {
   "cell_type": "markdown",
   "metadata": {
    "id": "Fz3hILpTe6NW"
   },
   "source": [
    "## Module/Library installation + imports\n"
   ]
  },
  {
   "cell_type": "code",
   "execution_count": null,
   "metadata": {
    "id": "n1b1o7g8F0dc"
   },
   "outputs": [],
   "source": [
    "pip install transformers"
   ]
  },
  {
   "cell_type": "code",
   "execution_count": null,
   "metadata": {
    "id": "mHAQFxElc-Fe"
   },
   "outputs": [],
   "source": [
    "pip install wandb"
   ]
  },
  {
   "cell_type": "code",
   "execution_count": null,
   "metadata": {
    "id": "UCmzu83e-B-p"
   },
   "outputs": [],
   "source": [
    "pip install \"ray[tune]\""
   ]
  },
  {
   "cell_type": "code",
   "execution_count": null,
   "metadata": {
    "colab": {
     "base_uri": "https://localhost:8080/"
    },
    "executionInfo": {
     "elapsed": 1500,
     "status": "ok",
     "timestamp": 1624443249059,
     "user": {
      "displayName": "Ellie Pankovska",
      "photoUrl": "https://lh3.googleusercontent.com/a-/AOh14GissSTeZCJqcn_5fecohPa8FaTRx7r4dJSMXQZi=s64",
      "userId": "06868089363233557789"
     },
     "user_tz": -120
    },
    "id": "cZp_sR0odBUH",
    "outputId": "6719e329-c3ca-49f0-f6e5-d5b9e804aa50"
   },
   "outputs": [],
   "source": [
    "# save and display all runs in W&B\n",
    "import wandb\n",
    "wandb.login()"
   ]
  },
  {
   "cell_type": "code",
   "execution_count": 1,
   "metadata": {
    "executionInfo": {
     "elapsed": 7647,
     "status": "ok",
     "timestamp": 1625039046061,
     "user": {
      "displayName": "Ellie Pankovska",
      "photoUrl": "https://lh3.googleusercontent.com/a-/AOh14GissSTeZCJqcn_5fecohPa8FaTRx7r4dJSMXQZi=s64",
      "userId": "06868089363233557789"
     },
     "user_tz": -120
    },
    "id": "1U2Ia2vZFXbX"
   },
   "outputs": [],
   "source": [
    "import pandas as pd\n",
    "from transformers import (AutoModelForSequenceClassification, AutoTokenizer, AutoConfig,\n",
    "                          Trainer, TrainingArguments)\n",
    "from sklearn.metrics import (\n",
    "    confusion_matrix,\n",
    "    accuracy_score,\n",
    ")\n",
    "from sklearn.model_selection import StratifiedShuffleSplit"
   ]
  },
  {
   "cell_type": "markdown",
   "metadata": {
    "id": "AqW0J4byekK7"
   },
   "source": [
    "## Load dataset"
   ]
  },
  {
   "cell_type": "code",
   "execution_count": 6,
   "metadata": {
    "executionInfo": {
     "elapsed": 2266,
     "status": "ok",
     "timestamp": 1625039048321,
     "user": {
      "displayName": "Ellie Pankovska",
      "photoUrl": "https://lh3.googleusercontent.com/a-/AOh14GissSTeZCJqcn_5fecohPa8FaTRx7r4dJSMXQZi=s64",
      "userId": "06868089363233557789"
     },
     "user_tz": -120
    },
    "id": "Z6SqUygpFU7f"
   },
   "outputs": [],
   "source": [
    "train_df = pd.read_csv(\"https://raw.githubusercontent.com/elip06/covid19-fact-checking/main/dataset_preparation/preprocessed_datasets/train_dataset_final.csv?token=AL3S7USONU7SWCL464X7SOLA34FCO\")\n",
    "test_df = pd.read_csv(\"https://raw.githubusercontent.com/elip06/covid19-fact-checking/main/dataset_preparation/preprocessed_datasets/test_dataset_final.csv?token=AL3S7USJS5CMY5SRWUR4ED3A34FEW\")"
   ]
  },
  {
   "cell_type": "code",
   "execution_count": 7,
   "metadata": {
    "executionInfo": {
     "elapsed": 9,
     "status": "ok",
     "timestamp": 1625039048323,
     "user": {
      "displayName": "Ellie Pankovska",
      "photoUrl": "https://lh3.googleusercontent.com/a-/AOh14GissSTeZCJqcn_5fecohPa8FaTRx7r4dJSMXQZi=s64",
      "userId": "06868089363233557789"
     },
     "user_tz": -120
    },
    "id": "1hbSSwAGFcFB"
   },
   "outputs": [],
   "source": [
    "X_train = train_df.text\n",
    "Y_train = train_df.labels\n",
    "X_test = test_df.text\n",
    "Y_test = test_df.labels"
   ]
  },
  {
   "cell_type": "markdown",
   "metadata": {
    "id": "qcm1z60BeBm6"
   },
   "source": [
    "## Helper functions/classes\n",
    "\n",
    "Create custom dataset class"
   ]
  },
  {
   "cell_type": "code",
   "execution_count": null,
   "metadata": {
    "id": "5aw7RIp65Ysv"
   },
   "outputs": [],
   "source": [
    "class CovidDataset(torch.utils.data.Dataset):\n",
    "    def __init__(self, encodings, labels):\n",
    "        self.encodings = encodings\n",
    "        self.labels = labels\n",
    "\n",
    "    def __getitem__(self, idx):\n",
    "        item = {key: torch.tensor(val[idx]) for key, val in self.encodings.items()}\n",
    "        item['labels'] = torch.tensor(self.labels[idx])\n",
    "        return item\n",
    "\n",
    "    def __len__(self):\n",
    "        return len(self.labels)"
   ]
  },
  {
   "cell_type": "markdown",
   "metadata": {
    "id": "Itw82zLZeW_v"
   },
   "source": [
    "Compute evaluation metrics"
   ]
  },
  {
   "cell_type": "code",
   "execution_count": null,
   "metadata": {
    "id": "Af6IxUJGpkAQ"
   },
   "outputs": [],
   "source": [
    "def compute_metrics(pred):\n",
    "    labels = pred.label_ids\n",
    "    preds = pred.predictions.argmax(-1)\n",
    "    acc = accuracy_score(labels, preds)\n",
    "    tn, fp, fn, tp = confusion_matrix(labels, preds, labels=[0, 1]).ravel()\n",
    "    return {\n",
    "        'accuracy': acc,\n",
    "        'tn': tn,\n",
    "        'tp': tp,\n",
    "        'fp': fp,\n",
    "        'fn': fn\n",
    "    }"
   ]
  },
  {
   "cell_type": "markdown",
   "metadata": {},
   "source": [
    "Tokenize sentences and initialize custom dataset"
   ]
  },
  {
   "cell_type": "code",
   "execution_count": null,
   "metadata": {
    "id": "y9t2i56ZFvkL"
   },
   "outputs": [],
   "source": [
    "def tokenize(X, model_name):\n",
    "    tokenizer = AutoTokenizer.from_pretrained(model_name, model_max_length=512)\n",
    "    encodings = tokenizer(X.values.tolist(), truncation=True, padding=True)\n",
    "    return encodings"
   ]
  },
  {
   "cell_type": "code",
   "execution_count": null,
   "metadata": {
    "id": "5Iuzg3JjNOEF"
   },
   "outputs": [],
   "source": [
    "def createDataset(X, Y, model_name):\n",
    "    dataset = CovidDataset(tokenize(X, model_name), Y.values.tolist())\n",
    "    return dataset"
   ]
  },
  {
   "cell_type": "markdown",
   "metadata": {},
   "source": [
    "Initialize model with given name"
   ]
  },
  {
   "cell_type": "code",
   "execution_count": null,
   "metadata": {},
   "outputs": [],
   "source": [
    "def model_init(model_name):\n",
    "    return AutoModelForSequenceClassification.from_pretrained(model_name, return_dict=True)\n"
   ]
  },
  {
   "cell_type": "markdown",
   "metadata": {},
   "source": [
    "Basic training procedure"
   ]
  },
  {
   "cell_type": "code",
   "execution_count": null,
   "metadata": {},
   "outputs": [],
   "source": [
    "def train(run_name, model_name, train_dataset, val_dataset):\n",
    "    training_args = TrainingArguments(\n",
    "        output_dir='./results',\n",
    "        num_train_epochs=2,\n",
    "        per_device_train_batch_size=8,\n",
    "        per_device_eval_batch_size=64,\n",
    "        logging_dir='./logs',\n",
    "        logging_steps=100,\n",
    "        evaluation_strategy='epoch',\n",
    "        save_steps=2000,\n",
    "        report_to = ['wandb'],\n",
    "        disable_tqdm=True,\n",
    "        run_name = run_name\n",
    "    )\n",
    "\n",
    "    trainer = Trainer(\n",
    "        model_init=model_init(model_name),\n",
    "        args=training_args,\n",
    "        compute_metrics=compute_metrics,\n",
    "        train_dataset=train_dataset,\n",
    "        eval_dataset=val_dataset,\n",
    "    )\n",
    "    trainer.train()"
   ]
  },
  {
   "cell_type": "code",
   "execution_count": null,
   "metadata": {},
   "outputs": [],
   "source": [
    "def basic_train(run_name, model_name):\n",
    "    run = wandb.init(project=\"model-comparison\", reinit=True, name=run_name)\n",
    "    train_dataset = createDataset(X_train, Y_train, model_name)\n",
    "    val_dataset = createDataset(X_test, Y_test, model_name)\n",
    "    train(run_name, model_name, train_dataset, val_dataset)\n",
    "    run.finish()"
   ]
  },
  {
   "cell_type": "markdown",
   "metadata": {},
   "source": [
    "Cross-validation procedure"
   ]
  },
  {
   "cell_type": "code",
   "execution_count": null,
   "metadata": {},
   "outputs": [],
   "source": [
    "def cross_validate(run_name, model_name):\n",
    "    sss = StratifiedShuffleSplit(n_splits=10, test_size=0.3, random_state=3)\n",
    "    i = 1\n",
    "    for train_index, test_index in sss.split(X_train, Y_train):\n",
    "        run = wandb.init(project=\"cross-validation\", reinit=True, name=(run_name + \"-cv-fold\" + str(i)))\n",
    "        X_train_cv, X_test_cv = X_train[train_index], X_train[test_index]\n",
    "        Y_train_cv, Y_test_cv = Y_train[train_index], Y_train[test_index]\n",
    "        train_dataset = createDataset(X_train_cv, Y_train_cv, model_name)\n",
    "        val_dataset = createDataset(X_test_cv, Y_test_cv, model_name)\n",
    "        train(run_name, model_name, train_dataset, val_dataset)\n",
    "        run.finish()\n",
    "        i += 1"
   ]
  },
  {
   "cell_type": "markdown",
   "metadata": {},
   "source": [
    "Hyperparameter Tuning"
   ]
  },
  {
   "cell_type": "code",
   "execution_count": null,
   "metadata": {},
   "outputs": [],
   "source": [
    "def my_hp_space_ray(trial):\n",
    "    from ray import tune\n",
    "\n",
    "    return {\n",
    "        \"learning_rate\": tune.loguniform(1e-5, 1e-3),\n",
    "        \"num_train_epochs\": tune.choice(range(1, 5)),\n",
    "        \"seed\": tune.choice(range(1, 42)),\n",
    "        \"per_device_train_batch_size\": tune.choice([8, 16]),\n",
    "        \"warmup_steps\": tune.choice(range(0, 1000)),\n",
    "        \"weight_decay\": tune.loguniform(1e-6, 0.1),\n",
    "    }"
   ]
  },
  {
   "cell_type": "code",
   "execution_count": null,
   "metadata": {},
   "outputs": [],
   "source": [
    "def find_best_hyperparameters(project_name, model_name):\n",
    "    # Evaluate during training and a bit more often\n",
    "    # than the default to be able to prune bad trials early.\n",
    "    train_dataset = createDataset(X_train, Y_train, model_name)\n",
    "    val_dataset = createDataset(X_test, Y_test, model_name)\n",
    "\n",
    "    training_args = TrainingArguments(project_name, evaluation_strategy='epoch', save_steps=2000, report_to = ['wandb'], disable_tqdm=True, run_name = 'hyperparameter_tuning')\n",
    "\n",
    "    trainer = Trainer(\n",
    "        args=training_args,\n",
    "        train_dataset=train_dataset,\n",
    "        eval_dataset=val_dataset,\n",
    "        model_init=model_init(model_name),\n",
    "        compute_metrics=compute_metrics,\n",
    "    )\n",
    "    trainer.hyperparameter_search(backend=\"ray\", direction=\"maximize\", hp_space=my_hp_space_ray)"
   ]
  },
  {
   "cell_type": "markdown",
   "metadata": {},
   "source": [
    "## BERT"
   ]
  },
  {
   "cell_type": "code",
   "execution_count": null,
   "metadata": {},
   "outputs": [],
   "source": [
    "basic_train('BERT', 'bert-base-uncased')"
   ]
  },
  {
   "cell_type": "code",
   "execution_count": null,
   "metadata": {},
   "outputs": [],
   "source": [
    "cross_validate('bert', 'bert-base-uncased')"
   ]
  },
  {
   "cell_type": "markdown",
   "metadata": {},
   "source": [
    "## DistilBERT"
   ]
  },
  {
   "cell_type": "code",
   "execution_count": null,
   "metadata": {},
   "outputs": [],
   "source": [
    "basic_train('DistilBERT', 'distilbert-base-uncased')"
   ]
  },
  {
   "cell_type": "code",
   "execution_count": null,
   "metadata": {},
   "outputs": [],
   "source": [
    "cross_validate('distilbert', 'distilbert-base-uncased')"
   ]
  },
  {
   "cell_type": "code",
   "execution_count": null,
   "metadata": {},
   "outputs": [],
   "source": [
    "find_best_hyperparameters('distilbert-hyperparameter-tuning', 'distilbert-base-uncased')"
   ]
  },
  {
   "cell_type": "markdown",
   "metadata": {},
   "source": [
    "## RoBERTa"
   ]
  },
  {
   "cell_type": "code",
   "execution_count": null,
   "metadata": {},
   "outputs": [],
   "source": [
    "basic_train('RoBERTa', 'roberta-base')"
   ]
  },
  {
   "cell_type": "markdown",
   "metadata": {},
   "source": [
    "## SciBERT"
   ]
  },
  {
   "cell_type": "code",
   "execution_count": null,
   "metadata": {},
   "outputs": [],
   "source": [
    "basic_train('SciBERT', 'allenai/scibert_scivocab_uncased')"
   ]
  }
 ],
 "metadata": {
  "colab": {
   "authorship_tag": "ABX9TyP7gNket6lNZ4PxZCejhtK6",
   "collapsed_sections": [
    "ctPDP_V_euIJ"
   ],
   "name": "Fine-tuning-Transformers.ipynb",
   "provenance": [],
   "toc_visible": true
  },
  "kernelspec": {
   "display_name": "Python 3",
   "language": "python",
   "name": "python3"
  },
  "language_info": {
   "codemirror_mode": {
    "name": "ipython",
    "version": 3
   },
   "file_extension": ".py",
   "mimetype": "text/x-python",
   "name": "python",
   "nbconvert_exporter": "python",
   "pygments_lexer": "ipython3",
   "version": "3.7.9"
  },
  "widgets": {
   "application/vnd.jupyter.widget-state+json": {
    "07ded11c30fe49578c7b0e914c4711f1": {
     "model_module": "@jupyter-widgets/controls",
     "model_name": "VBoxModel",
     "state": {
      "_dom_classes": [],
      "_model_module": "@jupyter-widgets/controls",
      "_model_module_version": "1.5.0",
      "_model_name": "VBoxModel",
      "_view_count": null,
      "_view_module": "@jupyter-widgets/controls",
      "_view_module_version": "1.5.0",
      "_view_name": "VBoxView",
      "box_style": "",
      "children": [
       "IPY_MODEL_cf8e7272d906400fbb4b73a9085239a0",
       "IPY_MODEL_ef3e2ea7cdc14cd7a5d9f1f4ec506b76"
      ],
      "layout": "IPY_MODEL_ff5e8fcb2ee046a5a93762b8052e5279"
     }
    },
    "6b65c81e866241f7be502aedeae0d52d": {
     "model_module": "@jupyter-widgets/controls",
     "model_name": "ProgressStyleModel",
     "state": {
      "_model_module": "@jupyter-widgets/controls",
      "_model_module_version": "1.5.0",
      "_model_name": "ProgressStyleModel",
      "_view_count": null,
      "_view_module": "@jupyter-widgets/base",
      "_view_module_version": "1.2.0",
      "_view_name": "StyleView",
      "bar_color": null,
      "description_width": ""
     }
    },
    "79f770cf93594f28bb971144700f2035": {
     "model_module": "@jupyter-widgets/base",
     "model_name": "LayoutModel",
     "state": {
      "_model_module": "@jupyter-widgets/base",
      "_model_module_version": "1.2.0",
      "_model_name": "LayoutModel",
      "_view_count": null,
      "_view_module": "@jupyter-widgets/base",
      "_view_module_version": "1.2.0",
      "_view_name": "LayoutView",
      "align_content": null,
      "align_items": null,
      "align_self": null,
      "border": null,
      "bottom": null,
      "display": null,
      "flex": null,
      "flex_flow": null,
      "grid_area": null,
      "grid_auto_columns": null,
      "grid_auto_flow": null,
      "grid_auto_rows": null,
      "grid_column": null,
      "grid_gap": null,
      "grid_row": null,
      "grid_template_areas": null,
      "grid_template_columns": null,
      "grid_template_rows": null,
      "height": null,
      "justify_content": null,
      "justify_items": null,
      "left": null,
      "margin": null,
      "max_height": null,
      "max_width": null,
      "min_height": null,
      "min_width": null,
      "object_fit": null,
      "object_position": null,
      "order": null,
      "overflow": null,
      "overflow_x": null,
      "overflow_y": null,
      "padding": null,
      "right": null,
      "top": null,
      "visibility": null,
      "width": null
     }
    },
    "cf8e7272d906400fbb4b73a9085239a0": {
     "model_module": "@jupyter-widgets/controls",
     "model_name": "LabelModel",
     "state": {
      "_dom_classes": [],
      "_model_module": "@jupyter-widgets/controls",
      "_model_module_version": "1.5.0",
      "_model_name": "LabelModel",
      "_view_count": null,
      "_view_module": "@jupyter-widgets/controls",
      "_view_module_version": "1.5.0",
      "_view_name": "LabelView",
      "description": "",
      "description_tooltip": null,
      "layout": "IPY_MODEL_eedb5ff061d24223a5d060e86edc9177",
      "placeholder": "​",
      "style": "IPY_MODEL_ed86dd37e36246b08deae1df95a81abc",
      "value": " 0.02MB of 0.02MB uploaded (0.00MB deduped)\r"
     }
    },
    "ed86dd37e36246b08deae1df95a81abc": {
     "model_module": "@jupyter-widgets/controls",
     "model_name": "DescriptionStyleModel",
     "state": {
      "_model_module": "@jupyter-widgets/controls",
      "_model_module_version": "1.5.0",
      "_model_name": "DescriptionStyleModel",
      "_view_count": null,
      "_view_module": "@jupyter-widgets/base",
      "_view_module_version": "1.2.0",
      "_view_name": "StyleView",
      "description_width": ""
     }
    },
    "eedb5ff061d24223a5d060e86edc9177": {
     "model_module": "@jupyter-widgets/base",
     "model_name": "LayoutModel",
     "state": {
      "_model_module": "@jupyter-widgets/base",
      "_model_module_version": "1.2.0",
      "_model_name": "LayoutModel",
      "_view_count": null,
      "_view_module": "@jupyter-widgets/base",
      "_view_module_version": "1.2.0",
      "_view_name": "LayoutView",
      "align_content": null,
      "align_items": null,
      "align_self": null,
      "border": null,
      "bottom": null,
      "display": null,
      "flex": null,
      "flex_flow": null,
      "grid_area": null,
      "grid_auto_columns": null,
      "grid_auto_flow": null,
      "grid_auto_rows": null,
      "grid_column": null,
      "grid_gap": null,
      "grid_row": null,
      "grid_template_areas": null,
      "grid_template_columns": null,
      "grid_template_rows": null,
      "height": null,
      "justify_content": null,
      "justify_items": null,
      "left": null,
      "margin": null,
      "max_height": null,
      "max_width": null,
      "min_height": null,
      "min_width": null,
      "object_fit": null,
      "object_position": null,
      "order": null,
      "overflow": null,
      "overflow_x": null,
      "overflow_y": null,
      "padding": null,
      "right": null,
      "top": null,
      "visibility": null,
      "width": null
     }
    },
    "ef3e2ea7cdc14cd7a5d9f1f4ec506b76": {
     "model_module": "@jupyter-widgets/controls",
     "model_name": "FloatProgressModel",
     "state": {
      "_dom_classes": [],
      "_model_module": "@jupyter-widgets/controls",
      "_model_module_version": "1.5.0",
      "_model_name": "FloatProgressModel",
      "_view_count": null,
      "_view_module": "@jupyter-widgets/controls",
      "_view_module_version": "1.5.0",
      "_view_name": "ProgressView",
      "bar_style": "",
      "description": "",
      "description_tooltip": null,
      "layout": "IPY_MODEL_79f770cf93594f28bb971144700f2035",
      "max": 1,
      "min": 0,
      "orientation": "horizontal",
      "style": "IPY_MODEL_6b65c81e866241f7be502aedeae0d52d",
      "value": 1
     }
    },
    "ff5e8fcb2ee046a5a93762b8052e5279": {
     "model_module": "@jupyter-widgets/base",
     "model_name": "LayoutModel",
     "state": {
      "_model_module": "@jupyter-widgets/base",
      "_model_module_version": "1.2.0",
      "_model_name": "LayoutModel",
      "_view_count": null,
      "_view_module": "@jupyter-widgets/base",
      "_view_module_version": "1.2.0",
      "_view_name": "LayoutView",
      "align_content": null,
      "align_items": null,
      "align_self": null,
      "border": null,
      "bottom": null,
      "display": null,
      "flex": null,
      "flex_flow": null,
      "grid_area": null,
      "grid_auto_columns": null,
      "grid_auto_flow": null,
      "grid_auto_rows": null,
      "grid_column": null,
      "grid_gap": null,
      "grid_row": null,
      "grid_template_areas": null,
      "grid_template_columns": null,
      "grid_template_rows": null,
      "height": null,
      "justify_content": null,
      "justify_items": null,
      "left": null,
      "margin": null,
      "max_height": null,
      "max_width": null,
      "min_height": null,
      "min_width": null,
      "object_fit": null,
      "object_position": null,
      "order": null,
      "overflow": null,
      "overflow_x": null,
      "overflow_y": null,
      "padding": null,
      "right": null,
      "top": null,
      "visibility": null,
      "width": null
     }
    }
   }
  }
 },
 "nbformat": 4,
 "nbformat_minor": 1
}
